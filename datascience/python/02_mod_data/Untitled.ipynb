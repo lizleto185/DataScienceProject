{
 "cells": [
  {
   "cell_type": "markdown",
   "id": "294b7c81",
   "metadata": {},
   "source": [
    "Lib Story Thing"
   ]
  },
  {
   "cell_type": "markdown",
   "id": "7dfaec36",
   "metadata": {},
   "source": [
    "_ went to the _ to get a _"
   ]
  },
  {
   "cell_type": "markdown",
   "id": "1a2574b0",
   "metadata": {},
   "source": [
    "[Person] went to the [place] to get a [item]. "
   ]
  },
  {
   "cell_type": "code",
   "execution_count": 1,
   "id": "c6c3c388",
   "metadata": {},
   "outputs": [
    {
     "name": "stdout",
     "output_type": "stream",
     "text": [
      "Insert a name:Preston\n",
      "Insert a place:Jacksonville \n",
      "Insert an item:bubble\n",
      "Preston went to the Jacksonville  to get a bubble\n"
     ]
    }
   ],
   "source": [
    "x = input(\"Insert a name:\")\n",
    "y = input(\"Insert a place:\")\n",
    "z = input(\"Insert an item:\")\n",
    "\n",
    "print(x, \"went to the\", y, \"to get a\", z)"
   ]
  },
  {
   "cell_type": "code",
   "execution_count": null,
   "id": "09841d59",
   "metadata": {},
   "outputs": [],
   "source": [
    "print(\"x\")"
   ]
  },
  {
   "cell_type": "markdown",
   "id": "04134d24",
   "metadata": {},
   "source": [
    "Title - Birthday Story"
   ]
  },
  {
   "cell_type": "markdown",
   "id": "7d986692",
   "metadata": {},
   "source": [
    "[Person] is going to have their birthday at [place] where they will get a [item] gift from their [person]."
   ]
  },
  {
   "cell_type": "code",
   "execution_count": 3,
   "id": "84435b6e",
   "metadata": {},
   "outputs": [
    {
     "name": "stdout",
     "output_type": "stream",
     "text": [
      "Insert a person:Owen\n",
      "Insert a place:Washington\n",
      "Insert an item:book\n",
      "Insert a second person:butcher\n",
      "Owen is going to have their birthday at Washington where they will get a book gift from their butcher\n"
     ]
    }
   ],
   "source": [
    "person = input(\"Insert a person:\")\n",
    "place = input(\"Insert a place:\")\n",
    "item = input(\"Insert an item:\")\n",
    "person2 = input(\"Insert a second person:\")\n",
    "\n",
    "print(person,\"is going to have their birthday at\", place,\"where they will get a\", item, \"gift from their\", person2)"
   ]
  },
  {
   "cell_type": "code",
   "execution_count": null,
   "id": "dd8cbeeb",
   "metadata": {},
   "outputs": [],
   "source": []
  }
 ],
 "metadata": {
  "kernelspec": {
   "display_name": "Python 3",
   "language": "python",
   "name": "python3"
  },
  "language_info": {
   "codemirror_mode": {
    "name": "ipython",
    "version": 3
   },
   "file_extension": ".py",
   "mimetype": "text/x-python",
   "name": "python",
   "nbconvert_exporter": "python",
   "pygments_lexer": "ipython3",
   "version": "3.8.8"
  }
 },
 "nbformat": 4,
 "nbformat_minor": 5
}
