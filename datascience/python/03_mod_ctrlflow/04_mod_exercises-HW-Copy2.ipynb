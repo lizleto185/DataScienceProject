{
 "cells": [
  {
   "cell_type": "markdown",
   "metadata": {},
   "source": [
    "Data Science Fundamentals: Python |\n",
    "[Table of Contents](../index.ipynb)\n",
    "- - - \n",
    "<!--NAVIGATION-->\n",
    "Module 3. [Control Flow](./01_mod_control_flow.ipynb) | [Statements](./02_python_statements.ipynb) | [Functions](./03_python_functions.ipynb) | **[Exercises](./04_mod_exercises.ipynb)**"
   ]
  },
  {
   "cell_type": "markdown",
   "metadata": {},
   "source": [
    "# Control Flow Exercises"
   ]
  },
  {
   "cell_type": "markdown",
   "metadata": {},
   "source": [
    "### Exercise 1:\n",
    "Guess a number between 1 to 9 given by the user. Hint. [Random](https://docs.python.org/3/library/random.html)"
   ]
  },
  {
   "cell_type": "code",
   "execution_count": 1,
   "metadata": {},
   "outputs": [
    {
     "name": "stdout",
     "output_type": "stream",
     "text": [
      "Pick an integer from 1 to 9: 1\n",
      "Nope, try again!\n",
      "Pick an integer from 1 to 9: 2\n",
      "Nope, try again!\n",
      "Pick an integer from 1 to 9: 3\n",
      "Nope, try again!\n",
      "Pick an integer from 1 to 9: 4\n",
      "Nope, try again!\n",
      "Pick an integer from 1 to 9: 5\n",
      "Nope, try again!\n",
      "Pick an integer from 1 to 9: 6\n",
      "Nope, try again!\n",
      "Pick an integer from 1 to 9: 7\n",
      "Nope, try again!\n",
      "Pick an integer from 1 to 9: 8\n",
      "Nope, try again!\n",
      "Pick an integer from 1 to 9: 9\n",
      "Got it!\n"
     ]
    }
   ],
   "source": [
    "def secret_number_game():\n",
    "    from numpy import random as rd\n",
    "    secret_number = rd.randint(1,10)\n",
    "    guess_number = int(input(\"Pick an integer from 1 to 9: \"))\n",
    "    if secret_number == guess_number:\n",
    "        print(\"Yep, that's it!\")\n",
    "    else:\n",
    "        while secret_number != guess_number:\n",
    "            print(\"Nope, try again!\")\n",
    "            guess_number = int(input(\"Pick an integer from 1 to 9: \"))\n",
    "        print(\"Got it!\")\n",
    "secret_number_game()"
   ]
  },
  {
   "cell_type": "markdown",
   "metadata": {},
   "source": [
    "### Exercise 2:\n",
    "Check the validity of password input by the user. Hint. [Re](https://docs.python.org/3/library/re.html) which does matching operations much like Perl.\n",
    "\n",
    "Validation:\n",
    "\n",
    "- At least 1 letter between [a-z] and 1 letter between [A-Z].\n",
    "- At least 1 number between [0-9].\n",
    "- At least 1 character from [$#@].\n",
    "- Minimum length 6 characters.\n",
    "- Maximum length 16 characters."
   ]
  },
  {
   "cell_type": "code",
   "execution_count": null,
   "metadata": {},
   "outputs": [],
   "source": [
    "#This exercise is difficult for beginners, as it utilizes Regex. If you don't get it at first, thats okay, do your best.\n",
    "import re\n",
    "pwd = input('Please enter a valid password:\\nValid passwords are:\\n\\t6-16 characters in length,\\n\\tContain 1+ numbers,\\n\\t1+ character from [$#@!], and \\n\\tAt least 1 upper and 1 lowercase letter.\\nInput: ')\n",
    "\n",
    "    "
   ]
  },
  {
   "cell_type": "markdown",
   "metadata": {},
   "source": [
    "### Exercise 3:\n",
    "Get input of the age of 3 people by user and determine oldest and youngest among them"
   ]
  },
  {
   "cell_type": "code",
   "execution_count": 8,
   "metadata": {},
   "outputs": [
    {
     "name": "stdout",
     "output_type": "stream",
     "text": [
      "Enter First Person's Age : 15\n",
      "Enter Second Person's Age : 16\n",
      "Enter Third Person's Age : 17\n",
      "The third person is the oldest and the first person is the youngest\n"
     ]
    }
   ],
   "source": [
    "person1 = int(input(\"Enter First Person's Age : \"))\n",
    "person2 = int(input(\"Enter Second Person's Age : \"))\n",
    "person3 = int(input(\"Enter Third Person's Age : \"))\n",
    "\n",
    "if person1 > person2 > person3: \n",
    "    print(\"The first person is the oldest and the third person is the youngest\")\n",
    "elif person2 > person3 > person1:\n",
    "    print(\"The second person is the oldest and the first person is the youngest\")\n",
    "elif person3 > person1 > person2:\n",
    "    print(\"The third person is the oldest and the second person is the youngest\")\n",
    "elif person1 > person3 > person2: \n",
    "    print(\"The first person is the oldest and the second person is the youngest\")\n",
    "elif person2 > person1 > person3:\n",
    "    print(\"The second person is the oldest and the third person is the youngest\")\n",
    "else: \n",
    "    print(\"The third person is the oldest and the first person is the youngest\")"
   ]
  },
  {
   "cell_type": "markdown",
   "metadata": {},
   "source": [
    "### Exercise 4:\n",
    "A student will not be allowed to sit in exam if his/her attendance is less than 75%.\n",
    "\n",
    "Take following input from user\n",
    "\n",
    "- Number of classes held\n",
    "- Number of classes attended.\n",
    "- And print percentage of class attended\n",
    "- Is student is allowed to sit in exam or not?"
   ]
  },
  {
   "cell_type": "code",
   "execution_count": 10,
   "metadata": {},
   "outputs": [
    {
     "name": "stdout",
     "output_type": "stream",
     "text": [
      "Number of classes held:204\n",
      "Number of classes attended:200\n",
      "percentage of classes attended 98.0392156862745 %\n",
      "The student is allowed to sit in the exam hall\n"
     ]
    }
   ],
   "source": [
    "x = int(input(\"Number of classes held:\")) #The numbers of classes held \n",
    "y = int(input(\"Number of classes attended:\")) #The numbers of classes attended\n",
    "percentage = (y/x)*100 #The percentage of classes attended by division & multiplying by 100         \n",
    "print(\"percentage of classes attended\", percentage, \"%\") \n",
    "if percentage > 75: #Determining if the student is allowed to sit in exam\n",
    "        print(\"The student is allowed to sit in the exam hall\")\n",
    "if percentage < 75:\n",
    "        print(\"The student is not allowed to sit in the exam hall\")"
   ]
  },
  {
   "cell_type": "markdown",
   "metadata": {},
   "source": [
    "### Exercise 5:\n",
    "Get an integer N from the user and perform the following actions:\n",
    "\n",
    "Find out - \n",
    "- if N is odd, print \"weird\"\n",
    "- if N is even and in the inclusive range of 2 to 5, print \"Not Weird\"\n",
    "- if N is even and in the inclusive range of 6 to 20, print \"Weird\"\n",
    "- if N is even and greater than 20, print \"Not Weird\""
   ]
  },
  {
   "cell_type": "code",
   "execution_count": 16,
   "metadata": {},
   "outputs": [
    {
     "name": "stdout",
     "output_type": "stream",
     "text": [
      "2\n",
      "Not Weird\n"
     ]
    }
   ],
   "source": [
    "n = int(input())\n",
    "if n % 2 == 1: #use modular expressions to see if it's odd  \n",
    "    print(\"Weird\") #print weird when n is odd \n",
    "elif n % 2 == 0 and 2 <= n <= 5:\n",
    "    print(\"Not Weird\")\n",
    "elif n % 2 == 0 and 6 <= n <= 20:\n",
    "    print(\"Weird\")\n",
    "else:\n",
    "    print(\"Not Weird\")    "
   ]
  },
  {
   "cell_type": "markdown",
   "metadata": {},
   "source": [
    "\n",
    "## Extra Points\n",
    "- - -"
   ]
  },
  {
   "cell_type": "markdown",
   "metadata": {},
   "source": [
    "1. ***Optional Exercise (Extra Points)***. Write a Python program to reverse a string."
   ]
  },
  {
   "cell_type": "raw",
   "metadata": {},
   "source": [
    "Sample String : \"1234abcd\"\n",
    "Expected Output : \"dcba4321\""
   ]
  },
  {
   "cell_type": "code",
   "execution_count": null,
   "metadata": {},
   "outputs": [],
   "source": [
    "\n"
   ]
  },
  {
   "cell_type": "markdown",
   "metadata": {},
   "source": [
    "2. ***Optional Exercise (Extra Points)***. Write a Python function to multiply all the numbers in a list. "
   ]
  },
  {
   "cell_type": "raw",
   "metadata": {},
   "source": [
    "Sample List : (8, 2, 3, -1, 7)\n",
    "Expected Output : -336"
   ]
  },
  {
   "cell_type": "code",
   "execution_count": null,
   "metadata": {},
   "outputs": [],
   "source": []
  },
  {
   "cell_type": "markdown",
   "metadata": {},
   "source": [
    "3. ***Optional Exercise (Extra Points)***. Write a Python function that accepts a string and calculate the number of upper case letters and lower case letters."
   ]
  },
  {
   "cell_type": "raw",
   "metadata": {},
   "source": [
    "Sample String : 'The quick Brow Fox'\n",
    "Expected Output :\n",
    "No. of Upper case characters : 3\n",
    "No. of Lower case Characters : 12"
   ]
  },
  {
   "cell_type": "code",
   "execution_count": null,
   "metadata": {},
   "outputs": [],
   "source": []
  },
  {
   "cell_type": "markdown",
   "metadata": {},
   "source": [
    "- - -\n",
    "\n",
    "Copyright © 2020 Qualex Consulting Services Incorporated."
   ]
  }
 ],
 "metadata": {
  "kernelspec": {
   "display_name": "Python 3",
   "language": "python",
   "name": "python3"
  },
  "language_info": {
   "codemirror_mode": {
    "name": "ipython",
    "version": 3
   },
   "file_extension": ".py",
   "mimetype": "text/x-python",
   "name": "python",
   "nbconvert_exporter": "python",
   "pygments_lexer": "ipython3",
   "version": "3.8.8"
  }
 },
 "nbformat": 4,
 "nbformat_minor": 4
}
