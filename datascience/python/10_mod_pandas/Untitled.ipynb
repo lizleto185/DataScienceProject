{
 "cells": [
  {
   "cell_type": "code",
   "execution_count": 4,
   "id": "618ba929",
   "metadata": {},
   "outputs": [
    {
     "data": {
      "text/plain": [
       "'1.2.4'"
      ]
     },
     "execution_count": 4,
     "metadata": {},
     "output_type": "execute_result"
    }
   ],
   "source": [
    "#convention for pandas import aliased as 'pd'\n",
    "import pandas as pd\n",
    "\n",
    "#pandas version check\n",
    "pd.__version__"
   ]
  },
  {
   "cell_type": "code",
   "execution_count": null,
   "id": "a6086590",
   "metadata": {},
   "outputs": [],
   "source": [
    "Due date December 9, 2021 (if need time, reach out)\n",
    "Project will be due later \n",
    "Screenshot Hankerrank \n",
    "\n",
    "so anytime we make a new index it completely rewrites the original one?\n",
    "no\n",
    "integer and floats overwrite the original integer index\n",
    "string index coincides with original integer index\n"
   ]
  },
  {
   "cell_type": "code",
   "execution_count": 8,
   "id": "d6379453",
   "metadata": {},
   "outputs": [
    {
     "data": {
      "text/plain": [
       "2    0.25\n",
       "5    0.50\n",
       "3    0.75\n",
       "7    1.00\n",
       "6    2.40\n",
       "8    4.60\n",
       "3    0.44\n",
       "dtype: float64"
      ]
     },
     "execution_count": 8,
     "metadata": {},
     "output_type": "execute_result"
    }
   ],
   "source": [
    "data = pd.Series([0.25, 0.5, 0.75, 1.0, 2.4, 4.6, .44],\n",
    "                 index=[2, 5, 3, 7, 6, 8, 3])\n",
    "data"
   ]
  },
  {
   "cell_type": "code",
   "execution_count": null,
   "id": "bc1bacbd",
   "metadata": {},
   "outputs": [],
   "source": [
    "so if he did population[0:2] would it include new York still?\n",
    "no it shouldnt\n",
    "but it depends if those are the correct number index\n",
    "\n",
    "Procedural programming (step by step) (sequence)\n",
    "\n",
    "Free points assignment (do it next week)"
   ]
  }
 ],
 "metadata": {
  "kernelspec": {
   "display_name": "Python 3",
   "language": "python",
   "name": "python3"
  },
  "language_info": {
   "codemirror_mode": {
    "name": "ipython",
    "version": 3
   },
   "file_extension": ".py",
   "mimetype": "text/x-python",
   "name": "python",
   "nbconvert_exporter": "python",
   "pygments_lexer": "ipython3",
   "version": "3.8.8"
  }
 },
 "nbformat": 4,
 "nbformat_minor": 5
}
